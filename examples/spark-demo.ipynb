{
 "cells": [
  {
   "cell_type": "code",
   "execution_count": 1,
   "metadata": {
    "jupyter": {
     "outputs_hidden": true
    },
    "tags": []
   },
   "outputs": [
    {
     "data": {
      "text/plain": [
       "\u001b[36mres0\u001b[39m: \u001b[32mList\u001b[39m[\u001b[32mcoursier\u001b[39m.\u001b[32mpackage\u001b[39m.\u001b[32mRepository\u001b[39m] = \u001b[33mList\u001b[39m(\n",
       "  \u001b[33mIvyRepository\u001b[39m(\n",
       "    \u001b[33mPattern\u001b[39m(\n",
       "      \u001b[33mList\u001b[39m(\n",
       "        \u001b[33mConst\u001b[39m(\u001b[32m\"file:/Users/passer/.ivy2/local/\"\u001b[39m),\n",
       "        \u001b[33mVar\u001b[39m(\u001b[32m\"organisation\"\u001b[39m),\n",
       "        \u001b[33mConst\u001b[39m(\u001b[32m\"/\"\u001b[39m),\n",
       "        \u001b[33mVar\u001b[39m(\u001b[32m\"module\"\u001b[39m),\n",
       "        \u001b[33mConst\u001b[39m(\u001b[32m\"/\"\u001b[39m),\n",
       "        \u001b[33mOpt\u001b[39m(\u001b[33mArrayBuffer\u001b[39m(\u001b[33mConst\u001b[39m(\u001b[32m\"scala_\"\u001b[39m), \u001b[33mVar\u001b[39m(\u001b[32m\"scalaVersion\"\u001b[39m), \u001b[33mConst\u001b[39m(\u001b[32m\"/\"\u001b[39m))),\n",
       "        \u001b[33mOpt\u001b[39m(\u001b[33mArrayBuffer\u001b[39m(\u001b[33mConst\u001b[39m(\u001b[32m\"sbt_\"\u001b[39m), \u001b[33mVar\u001b[39m(\u001b[32m\"sbtVersion\"\u001b[39m), \u001b[33mConst\u001b[39m(\u001b[32m\"/\"\u001b[39m))),\n",
       "        \u001b[33mVar\u001b[39m(\u001b[32m\"revision\"\u001b[39m),\n",
       "        \u001b[33mConst\u001b[39m(\u001b[32m\"/\"\u001b[39m),\n",
       "        \u001b[33mVar\u001b[39m(\u001b[32m\"type\"\u001b[39m),\n",
       "        \u001b[33mConst\u001b[39m(\u001b[32m\"s/\"\u001b[39m),\n",
       "        \u001b[33mVar\u001b[39m(\u001b[32m\"artifact\"\u001b[39m),\n",
       "        \u001b[33mOpt\u001b[39m(\u001b[33mArrayBuffer\u001b[39m(\u001b[33mConst\u001b[39m(\u001b[32m\"-\"\u001b[39m), \u001b[33mVar\u001b[39m(\u001b[32m\"classifier\"\u001b[39m))),\n",
       "        \u001b[33mConst\u001b[39m(\u001b[32m\".\"\u001b[39m),\n",
       "        \u001b[33mVar\u001b[39m(\u001b[32m\"ext\"\u001b[39m)\n",
       "      )\n",
       "    ),\n",
       "    \u001b[32mNone\u001b[39m,\n",
       "    \u001b[32mNone\u001b[39m,\n",
       "    true,\n",
       "    true,\n",
       "    true,\n",
       "    true,\n",
       "    \u001b[32mNone\u001b[39m\n",
       "  ),\n",
       "  \u001b[33mMavenRepository\u001b[39m(\u001b[32m\"https://repo1.maven.org/maven2\"\u001b[39m, \u001b[32mNone\u001b[39m, true, \u001b[32mNone\u001b[39m)\n",
       ")"
      ]
     },
     "execution_count": 1,
     "metadata": {},
     "output_type": "execute_result"
    }
   ],
   "source": [
    "interp.repositories()"
   ]
  },
  {
   "cell_type": "code",
   "execution_count": 2,
   "metadata": {},
   "outputs": [
    {
     "data": {
      "text/plain": [
       "\u001b[32mimport \u001b[39m\u001b[36mammonite.ops.ImplicitWd._\n",
       "\u001b[39m"
      ]
     },
     "execution_count": 2,
     "metadata": {},
     "output_type": "execute_result"
    }
   ],
   "source": [
    "// import ammonite.ops._\n",
    "import ammonite.ops.ImplicitWd._\n"
   ]
  },
  {
   "cell_type": "code",
   "execution_count": 15,
   "metadata": {},
   "outputs": [
    {
     "ename": "",
     "evalue": "",
     "output_type": "error",
     "traceback": [
      "\u001b[31mammonite.ops.ShelloutException: CommandResult 1\ntar: no files or directories specified\n\u001b[39m\n  ammonite.ops.Shellout$.executeStream(\u001b[32mShellout.scala\u001b[39m:\u001b[32m101\u001b[39m)\n  ammonite.ops.Shellout$$anonfun$4.apply(\u001b[32mShellout.scala\u001b[39m:\u001b[32m15\u001b[39m)\n  ammonite.ops.Shellout$$anonfun$4.apply(\u001b[32mShellout.scala\u001b[39m:\u001b[32m15\u001b[39m)\n  ammonite.ops.Command.applyDynamic(\u001b[32mShellout.scala\u001b[39m:\u001b[32m118\u001b[39m)\n  ammonite.$sess.cmd14$Helper.<init>(\u001b[32mcmd14.sc\u001b[39m:\u001b[32m1\u001b[39m)\n  ammonite.$sess.cmd14$.<init>(\u001b[32mcmd14.sc\u001b[39m:\u001b[32m7\u001b[39m)\n  ammonite.$sess.cmd14$.<clinit>(\u001b[32mcmd14.sc\u001b[39m:\u001b[32m-1\u001b[39m)"
     ]
    }
   ],
   "source": [
    "%%(\"tar\", \"-cvf z.zip hello\")"
   ]
  },
  {
   "cell_type": "code",
   "execution_count": 35,
   "metadata": {},
   "outputs": [
    {
     "name": "stderr",
     "output_type": "stream",
     "text": [
      "cmd35.sc:1: type mismatch;\n",
      " found   : ammonite.ops.ls.type\n",
      " required: ammonite.ops.Shellable\n",
      "val res35 = %(ls, 'test.ipynb)\n",
      "              ^cmd35.sc:1: value ipynb is not a member of Symbol\n",
      "val res35 = %(ls, 'test.ipynb)\n",
      "                        ^Compilation Failed"
     ]
    },
    {
     "ename": "",
     "evalue": "",
     "output_type": "error",
     "traceback": [
      "Compilation Failed"
     ]
    }
   ],
   "source": [
    "%(ls, 'test.ipynb)"
   ]
  },
  {
   "cell_type": "code",
   "execution_count": 27,
   "metadata": {},
   "outputs": [
    {
     "name": "stderr",
     "output_type": "stream",
     "text": [
      "cmd27.sc:1: value - is not a member of Symbol\n",
      "val res27 = %%('ls -la)\n",
      "                   ^cmd27.sc:1: not found: value la\n",
      "val res27 = %%('ls -la)\n",
      "                    ^Compilation Failed"
     ]
    },
    {
     "ename": "",
     "evalue": "",
     "output_type": "error",
     "traceback": [
      "Compilation Failed"
     ]
    }
   ],
   "source": [
    "%%('ls )"
   ]
  },
  {
   "cell_type": "code",
   "execution_count": 13,
   "metadata": {},
   "outputs": [
    {
     "data": {
      "text/html": [
       "Got all items"
      ]
     },
     "metadata": {},
     "output_type": "display_data"
    },
    {
     "data": {
      "text/plain": [
       "\u001b[36mid\u001b[39m: \u001b[32mString\u001b[39m = \u001b[32m\"6dbe155c-94ae-464b-ac8f-057a4d13e382\"\u001b[39m"
      ]
     },
     "execution_count": 13,
     "metadata": {},
     "output_type": "execute_result"
    }
   ],
   "source": [
    "val id = java.util.UUID.randomUUID().toString\n",
    "kernel.publish.html(\"Starting\", id)\n",
    "\n",
    "for (i <- 1 to 10) {\n",
    "  Thread.sleep((200.0 + 200.0 * scala.util.Random.nextGaussian).toLong max 0L)\n",
    "  kernel.publish.updateHtml(s\"Got item <b>#$i</b>\", id)\n",
    "}\n",
    "\n",
    "kernel.publish.updateHtml(\"Got all items\", id)"
   ]
  },
  {
   "cell_type": "code",
   "execution_count": null,
   "metadata": {},
   "outputs": [],
   "source": []
  },
  {
   "cell_type": "code",
   "execution_count": 8,
   "metadata": {
    "tags": []
   },
   "outputs": [
    {
     "data": {
      "text/plain": [
       "\u001b[32mimport \u001b[39m\u001b[36m$ivy.$                                   // Or use any other 2.x version here\n",
       "\u001b[39m\n",
       "\u001b[32mimport \u001b[39m\u001b[36m$ivy.$                                       \u001b[39m"
      ]
     },
     "execution_count": 8,
     "metadata": {},
     "output_type": "execute_result"
    }
   ],
   "source": [
    "import $ivy.`org.apache.spark::spark-sql:2.2.1` // Or use any other 2.x version here\n",
    "import $ivy.`sh.almond::almond-spark:0.6.1-SNAPSHOT`"
   ]
  },
  {
   "cell_type": "code",
   "execution_count": 2,
   "metadata": {
    "jupyter": {
     "outputs_hidden": false
    },
    "pycharm": {
     "name": "#%%\n"
    }
   },
   "outputs": [
    {
     "data": {
      "text/plain": [
       "\u001b[32mimport \u001b[39m\u001b[36morg.apache.log4j.{Level, Logger}\n",
       "\u001b[39m"
      ]
     },
     "execution_count": 2,
     "metadata": {},
     "output_type": "execute_result"
    }
   ],
   "source": [
    "import org.apache.log4j.{Level, Logger}\n",
    "Logger.getLogger(\"org\").setLevel(Level.OFF)\n"
   ]
  },
  {
   "cell_type": "code",
   "execution_count": 3,
   "metadata": {
    "jupyter": {
     "outputs_hidden": false
    },
    "pycharm": {
     "name": "#%%\n"
    }
   },
   "outputs": [
    {
     "name": "stdout",
     "output_type": "stream",
     "text": [
      "Loading spark-stubs\n",
      "Getting spark JARs\n"
     ]
    },
    {
     "name": "stderr",
     "output_type": "stream",
     "text": [
      "SLF4J: No SLF4J providers were found.\n",
      "SLF4J: Defaulting to no-operation (NOP) logger implementation\n",
      "SLF4J: See http://www.slf4j.org/codes.html#noProviders for further details.\n",
      "SLF4J: Class path contains SLF4J bindings targeting slf4j-api versions prior to 1.8.\n",
      "SLF4J: Ignoring binding found at [jar:file:/Users/passer/dev/code/almond/modules/scala/scala-kernel/target/pack/lib/slf4j-nop-1.7.26.jar!/org/slf4j/impl/StaticLoggerBinder.class]\n",
      "SLF4J: See http://www.slf4j.org/codes.html#ignoredBindings for an explanation.\n"
     ]
    },
    {
     "name": "stdout",
     "output_type": "stream",
     "text": [
      "Creating SparkSession\n"
     ]
    },
    {
     "name": "stderr",
     "output_type": "stream",
     "text": [
      "log4j:WARN No appenders could be found for logger (io.netty.util.internal.logging.InternalLoggerFactory).\n",
      "log4j:WARN Please initialize the log4j system properly.\n",
      "log4j:WARN See http://logging.apache.org/log4j/1.2/faq.html#noconfig for more info.\n"
     ]
    },
    {
     "data": {
      "text/html": [
       "<a href=\"http://192.168.0.116:4041\">Spark UI</a>"
      ]
     },
     "metadata": {},
     "output_type": "display_data"
    },
    {
     "data": {
      "text/plain": [
       "\u001b[32mimport \u001b[39m\u001b[36morg.apache.spark.sql._\n",
       "\n",
       "\u001b[39m\n",
       "\u001b[36mspark\u001b[39m: \u001b[32mSparkSession\u001b[39m = org.apache.spark.sql.SparkSession@6f38c0cc"
      ]
     },
     "execution_count": 3,
     "metadata": {},
     "output_type": "execute_result"
    }
   ],
   "source": [
    "import org.apache.spark.sql._\n",
    "\n",
    "val spark = {\n",
    "  NotebookSparkSession.builder()\n",
    "    .master(\"local[*]\")\n",
    "    .getOrCreate()\n",
    "}"
   ]
  },
  {
   "cell_type": "code",
   "execution_count": 4,
   "metadata": {
    "jupyter": {
     "outputs_hidden": false
    },
    "pycharm": {
     "name": "#%%\n"
    }
   },
   "outputs": [
    {
     "data": {
      "text/html": [
       "<script>\n",
       "var comm = Jupyter.notebook.kernel.comm_manager.new_comm('cancel-stage-dfea0c3a-4891-4836-abcd-271b8dd35685', {});\n",
       "\n",
       "function cancelStage(stageId) {\n",
       "  console.log('Cancelling stage ' + stageId);\n",
       "  comm.send({ 'stageId': stageId });\n",
       "}\n",
       "</script>\n",
       "          "
      ]
     },
     "metadata": {},
     "output_type": "display_data"
    },
    {
     "data": {
      "text/html": [
       "<div>\n",
       "  <span style=\"float: left;\">sum at cmd3.sc:5</span>\n",
       "</div>\n"
      ]
     },
     "metadata": {},
     "output_type": "display_data"
    },
    {
     "data": {
      "text/html": [
       "<div class=\"progress\">\n",
       "  <div class=\"progress-bar\" role=\"progressbar\" style=\"background-color: blue; width: 100%; word-wrap: normal; white-space: nowrap; text-align: center; color: white\" aria-valuenow=\"100\" aria-valuemin=\"0\" aria-valuemax=\"100\">\n",
       "    100 / 100\n",
       "  </div>\n",
       "  <div class=\"progress-bar\" role=\"progressbar\" style=\"background-color: red; width: 0%\" aria-valuenow=\"0\" aria-valuemin=\"0\" aria-valuemax=\"100\"></div>\n",
       "</div>\n"
      ]
     },
     "metadata": {},
     "output_type": "display_data"
    },
    {
     "name": "stderr",
     "output_type": "stream",
     "text": [
      "                                                                                \r"
     ]
    },
    {
     "data": {
      "text/plain": [
       "defined \u001b[32mfunction\u001b[39m \u001b[36msc\u001b[39m\n",
       "\u001b[36mrdd\u001b[39m: \u001b[32morg\u001b[39m.\u001b[32mapache\u001b[39m.\u001b[32mspark\u001b[39m.\u001b[32mrdd\u001b[39m.\u001b[32mRDD\u001b[39m[\u001b[32mInt\u001b[39m] = ParallelCollectionRDD[0] at parallelize at cmd3.sc:3\n",
       "\u001b[36mn\u001b[39m: \u001b[32mDouble\u001b[39m = \u001b[32m5.00000015E15\u001b[39m"
      ]
     },
     "execution_count": 4,
     "metadata": {},
     "output_type": "execute_result"
    }
   ],
   "source": [
    "def sc = spark.sparkContext\n",
    "\n",
    "val rdd = sc.parallelize(1 to 100000000, 100)\n",
    "\n",
    "val n = rdd.map(_ + 1).sum()"
   ]
  },
  {
   "cell_type": "code",
   "execution_count": 5,
   "metadata": {},
   "outputs": [
    {
     "data": {
      "text/html": [
       "<div>\n",
       "  <span style=\"float: left;\">show at cmd4.sc:2</span>\n",
       "</div>\n"
      ]
     },
     "metadata": {},
     "output_type": "display_data"
    },
    {
     "data": {
      "text/html": [
       "<div class=\"progress\">\n",
       "  <div class=\"progress-bar\" role=\"progressbar\" style=\"background-color: blue; width: 100%; word-wrap: normal; white-space: nowrap; text-align: center; color: white\" aria-valuenow=\"100\" aria-valuemin=\"0\" aria-valuemax=\"100\">\n",
       "    1 / 1\n",
       "  </div>\n",
       "  <div class=\"progress-bar\" role=\"progressbar\" style=\"background-color: red; width: 0%\" aria-valuenow=\"0\" aria-valuemin=\"0\" aria-valuemax=\"100\"></div>\n",
       "</div>\n"
      ]
     },
     "metadata": {},
     "output_type": "display_data"
    },
    {
     "name": "stdout",
     "output_type": "stream",
     "text": [
      "+---+\n",
      "|  1|\n",
      "+---+\n",
      "|  1|\n",
      "+---+\n",
      "\n"
     ]
    },
    {
     "data": {
      "text/plain": [
       "\u001b[36mdf\u001b[39m: \u001b[32mDataFrame\u001b[39m = [1: int]"
      ]
     },
     "execution_count": 5,
     "metadata": {},
     "output_type": "execute_result"
    }
   ],
   "source": [
    "var df = spark.sql(\"select 1\")\n",
    "df.show()"
   ]
  },
  {
   "cell_type": "code",
   "execution_count": null,
   "metadata": {},
   "outputs": [],
   "source": []
  }
 ],
 "metadata": {
  "kernelspec": {
   "display_name": "Scala (sources)",
   "language": "scala",
   "name": "scala"
  },
  "language_info": {
   "codemirror_mode": "text/x-scala",
   "file_extension": ".scala",
   "mimetype": "text/x-scala",
   "name": "scala",
   "nbconvert_exporter": "script",
   "version": "2.11.12"
  }
 },
 "nbformat": 4,
 "nbformat_minor": 4
}
